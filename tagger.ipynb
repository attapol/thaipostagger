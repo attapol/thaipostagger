{
  "nbformat": 4,
  "nbformat_minor": 0,
  "metadata": {
    "colab": {
      "name": "tagger.ipynb",
      "provenance": []
    },
    "kernelspec": {
      "name": "python3",
      "display_name": "Python 3"
    },
    "widgets": {
      "application/vnd.jupyter.widget-state+json": {
        "bc3157e12bea42569c63d53378ed68fe": {
          "model_module": "@jupyter-widgets/controls",
          "model_name": "HBoxModel",
          "state": {
            "_view_name": "HBoxView",
            "_dom_classes": [],
            "_model_name": "HBoxModel",
            "_view_module": "@jupyter-widgets/controls",
            "_model_module_version": "1.5.0",
            "_view_count": null,
            "_view_module_version": "1.5.0",
            "box_style": "",
            "layout": "IPY_MODEL_2370112e67f346cabb9ee9da70724202",
            "_model_module": "@jupyter-widgets/controls",
            "children": [
              "IPY_MODEL_ad2b9e53a0c5447c8f0eb72b0b216399",
              "IPY_MODEL_10bcfd63cbd54e2c9d5b88564c016c74"
            ]
          }
        },
        "2370112e67f346cabb9ee9da70724202": {
          "model_module": "@jupyter-widgets/base",
          "model_name": "LayoutModel",
          "state": {
            "_view_name": "LayoutView",
            "grid_template_rows": null,
            "right": null,
            "justify_content": null,
            "_view_module": "@jupyter-widgets/base",
            "overflow": null,
            "_model_module_version": "1.2.0",
            "_view_count": null,
            "flex_flow": null,
            "width": null,
            "min_width": null,
            "border": null,
            "align_items": null,
            "bottom": null,
            "_model_module": "@jupyter-widgets/base",
            "top": null,
            "grid_column": null,
            "overflow_y": null,
            "overflow_x": null,
            "grid_auto_flow": null,
            "grid_area": null,
            "grid_template_columns": null,
            "flex": null,
            "_model_name": "LayoutModel",
            "justify_items": null,
            "grid_row": null,
            "max_height": null,
            "align_content": null,
            "visibility": null,
            "align_self": null,
            "height": null,
            "min_height": null,
            "padding": null,
            "grid_auto_rows": null,
            "grid_gap": null,
            "max_width": null,
            "order": null,
            "_view_module_version": "1.2.0",
            "grid_template_areas": null,
            "object_position": null,
            "object_fit": null,
            "grid_auto_columns": null,
            "margin": null,
            "display": null,
            "left": null
          }
        },
        "ad2b9e53a0c5447c8f0eb72b0b216399": {
          "model_module": "@jupyter-widgets/controls",
          "model_name": "FloatProgressModel",
          "state": {
            "_view_name": "ProgressView",
            "style": "IPY_MODEL_daaac9b7436f4af9bc60f6245c25cc4c",
            "_dom_classes": [],
            "description": "Converting examples to features: 100%",
            "_model_name": "FloatProgressModel",
            "bar_style": "success",
            "max": 1,
            "_view_module": "@jupyter-widgets/controls",
            "_model_module_version": "1.5.0",
            "value": 1,
            "_view_count": null,
            "_view_module_version": "1.5.0",
            "orientation": "horizontal",
            "min": 0,
            "description_tooltip": null,
            "_model_module": "@jupyter-widgets/controls",
            "layout": "IPY_MODEL_17f9bca12db147dcafb2b8caa23e1420"
          }
        },
        "10bcfd63cbd54e2c9d5b88564c016c74": {
          "model_module": "@jupyter-widgets/controls",
          "model_name": "HTMLModel",
          "state": {
            "_view_name": "HTMLView",
            "style": "IPY_MODEL_93d2a6a85437414e93541978c4cf1215",
            "_dom_classes": [],
            "description": "",
            "_model_name": "HTMLModel",
            "placeholder": "​",
            "_view_module": "@jupyter-widgets/controls",
            "_model_module_version": "1.5.0",
            "value": " 1/1 [00:00&lt;00:00, 38.66it/s]",
            "_view_count": null,
            "_view_module_version": "1.5.0",
            "description_tooltip": null,
            "_model_module": "@jupyter-widgets/controls",
            "layout": "IPY_MODEL_211fac1ecf7946acb570b086f7132a9a"
          }
        },
        "daaac9b7436f4af9bc60f6245c25cc4c": {
          "model_module": "@jupyter-widgets/controls",
          "model_name": "ProgressStyleModel",
          "state": {
            "_view_name": "StyleView",
            "_model_name": "ProgressStyleModel",
            "description_width": "initial",
            "_view_module": "@jupyter-widgets/base",
            "_model_module_version": "1.5.0",
            "_view_count": null,
            "_view_module_version": "1.2.0",
            "bar_color": null,
            "_model_module": "@jupyter-widgets/controls"
          }
        },
        "17f9bca12db147dcafb2b8caa23e1420": {
          "model_module": "@jupyter-widgets/base",
          "model_name": "LayoutModel",
          "state": {
            "_view_name": "LayoutView",
            "grid_template_rows": null,
            "right": null,
            "justify_content": null,
            "_view_module": "@jupyter-widgets/base",
            "overflow": null,
            "_model_module_version": "1.2.0",
            "_view_count": null,
            "flex_flow": null,
            "width": null,
            "min_width": null,
            "border": null,
            "align_items": null,
            "bottom": null,
            "_model_module": "@jupyter-widgets/base",
            "top": null,
            "grid_column": null,
            "overflow_y": null,
            "overflow_x": null,
            "grid_auto_flow": null,
            "grid_area": null,
            "grid_template_columns": null,
            "flex": null,
            "_model_name": "LayoutModel",
            "justify_items": null,
            "grid_row": null,
            "max_height": null,
            "align_content": null,
            "visibility": null,
            "align_self": null,
            "height": null,
            "min_height": null,
            "padding": null,
            "grid_auto_rows": null,
            "grid_gap": null,
            "max_width": null,
            "order": null,
            "_view_module_version": "1.2.0",
            "grid_template_areas": null,
            "object_position": null,
            "object_fit": null,
            "grid_auto_columns": null,
            "margin": null,
            "display": null,
            "left": null
          }
        },
        "93d2a6a85437414e93541978c4cf1215": {
          "model_module": "@jupyter-widgets/controls",
          "model_name": "DescriptionStyleModel",
          "state": {
            "_view_name": "StyleView",
            "_model_name": "DescriptionStyleModel",
            "description_width": "",
            "_view_module": "@jupyter-widgets/base",
            "_model_module_version": "1.5.0",
            "_view_count": null,
            "_view_module_version": "1.2.0",
            "_model_module": "@jupyter-widgets/controls"
          }
        },
        "211fac1ecf7946acb570b086f7132a9a": {
          "model_module": "@jupyter-widgets/base",
          "model_name": "LayoutModel",
          "state": {
            "_view_name": "LayoutView",
            "grid_template_rows": null,
            "right": null,
            "justify_content": null,
            "_view_module": "@jupyter-widgets/base",
            "overflow": null,
            "_model_module_version": "1.2.0",
            "_view_count": null,
            "flex_flow": null,
            "width": null,
            "min_width": null,
            "border": null,
            "align_items": null,
            "bottom": null,
            "_model_module": "@jupyter-widgets/base",
            "top": null,
            "grid_column": null,
            "overflow_y": null,
            "overflow_x": null,
            "grid_auto_flow": null,
            "grid_area": null,
            "grid_template_columns": null,
            "flex": null,
            "_model_name": "LayoutModel",
            "justify_items": null,
            "grid_row": null,
            "max_height": null,
            "align_content": null,
            "visibility": null,
            "align_self": null,
            "height": null,
            "min_height": null,
            "padding": null,
            "grid_auto_rows": null,
            "grid_gap": null,
            "max_width": null,
            "order": null,
            "_view_module_version": "1.2.0",
            "grid_template_areas": null,
            "object_position": null,
            "object_fit": null,
            "grid_auto_columns": null,
            "margin": null,
            "display": null,
            "left": null
          }
        }
      }
    }
  },
  "cells": [
    {
      "cell_type": "code",
      "metadata": {
        "id": "D8wAZfh4omHx",
        "colab_type": "code",
        "colab": {
          "base_uri": "https://localhost:8080/",
          "height": 479
        },
        "outputId": "6cb6fcc3-b6ce-44ea-ada4-0581a9a65565"
      },
      "source": [
        "!gdown --id 11Svg8Vze81-r-43w1eo3gOBs4oCUfIny\n",
        "!gdown --id 1f3W5Y_fh2au6Kf_tPawYihxzLdFqzHGy\n",
        "!gdown --id 1f6PUWUtqpdGz25VPuJtoGhAgVH12qted #download th-bpe files\n",
        "!unzip bert_th.zip\n",
        "!unzip th_wiki_bpe.zip\n",
        "!git clone https://github.com/thaikeras/bert\n",
        "!mv bert/* ./"
      ],
      "execution_count": 1,
      "outputs": [
        {
          "output_type": "stream",
          "text": [
            "Downloading...\n",
            "From: https://drive.google.com/uc?id=11Svg8Vze81-r-43w1eo3gOBs4oCUfIny\n",
            "To: /content/AACL_BERT_TH.hdf5\n",
            "421MB [00:07, 57.1MB/s]\n",
            "Downloading...\n",
            "From: https://drive.google.com/uc?id=1f3W5Y_fh2au6Kf_tPawYihxzLdFqzHGy\n",
            "To: /content/bert_th.zip\n",
            "857MB [00:15, 54.5MB/s]\n",
            "Downloading...\n",
            "From: https://drive.google.com/uc?id=1f6PUWUtqpdGz25VPuJtoGhAgVH12qted\n",
            "To: /content/th_wiki_bpe.zip\n",
            "100% 560k/560k [00:00<00:00, 37.4MB/s]\n",
            "Archive:  bert_th.zip\n",
            "   creating: bert_base_th/\n",
            "   creating: bert_base_th/.ipynb_checkpoints/\n",
            "  inflating: bert_base_th/config.json  \n",
            "  inflating: bert_base_th/pytorch_model.bin  \n",
            "  inflating: bert_base_th/tf_model.h5  \n",
            "Archive:  th_wiki_bpe.zip\n",
            "  inflating: th.wiki.bpe.op25000.model  \n",
            "  inflating: th.wiki.bpe.op25000.vocab  \n",
            "Cloning into 'bert'...\n",
            "remote: Enumerating objects: 275, done.\u001b[K\n",
            "remote: Total 275 (delta 0), reused 0 (delta 0), pack-reused 275\u001b[K\n",
            "Receiving objects: 100% (275/275), 201.42 KiB | 292.00 KiB/s, done.\n",
            "Resolving deltas: 100% (151/151), done.\n"
          ],
          "name": "stdout"
        }
      ]
    },
    {
      "cell_type": "code",
      "metadata": {
        "id": "x5AKE_Pyo4ku",
        "colab_type": "code",
        "colab": {
          "base_uri": "https://localhost:8080/",
          "height": 888
        },
        "outputId": "bb4f432a-1ef7-459e-fc2e-d88a23a0caf3"
      },
      "source": [
        "!pip install transformers\n",
        "!pip install pythainlp"
      ],
      "execution_count": 3,
      "outputs": [
        {
          "output_type": "stream",
          "text": [
            "Collecting transformers\n",
            "\u001b[?25l  Downloading https://files.pythonhosted.org/packages/27/3c/91ed8f5c4e7ef3227b4119200fc0ed4b4fd965b1f0172021c25701087825/transformers-3.0.2-py3-none-any.whl (769kB)\n",
            "\u001b[K     |████████████████████████████████| 778kB 2.8MB/s \n",
            "\u001b[?25hCollecting sacremoses\n",
            "\u001b[?25l  Downloading https://files.pythonhosted.org/packages/7d/34/09d19aff26edcc8eb2a01bed8e98f13a1537005d31e95233fd48216eed10/sacremoses-0.0.43.tar.gz (883kB)\n",
            "\u001b[K     |████████████████████████████████| 890kB 14.1MB/s \n",
            "\u001b[?25hRequirement already satisfied: filelock in /usr/local/lib/python3.6/dist-packages (from transformers) (3.0.12)\n",
            "Requirement already satisfied: tqdm>=4.27 in /usr/local/lib/python3.6/dist-packages (from transformers) (4.41.1)\n",
            "Requirement already satisfied: packaging in /usr/local/lib/python3.6/dist-packages (from transformers) (20.4)\n",
            "Collecting sentencepiece!=0.1.92\n",
            "\u001b[?25l  Downloading https://files.pythonhosted.org/packages/d4/a4/d0a884c4300004a78cca907a6ff9a5e9fe4f090f5d95ab341c53d28cbc58/sentencepiece-0.1.91-cp36-cp36m-manylinux1_x86_64.whl (1.1MB)\n",
            "\u001b[K     |████████████████████████████████| 1.1MB 16.8MB/s \n",
            "\u001b[?25hRequirement already satisfied: regex!=2019.12.17 in /usr/local/lib/python3.6/dist-packages (from transformers) (2019.12.20)\n",
            "Collecting tokenizers==0.8.1.rc1\n",
            "\u001b[?25l  Downloading https://files.pythonhosted.org/packages/40/d0/30d5f8d221a0ed981a186c8eb986ce1c94e3a6e87f994eae9f4aa5250217/tokenizers-0.8.1rc1-cp36-cp36m-manylinux1_x86_64.whl (3.0MB)\n",
            "\u001b[K     |████████████████████████████████| 3.0MB 23.9MB/s \n",
            "\u001b[?25hRequirement already satisfied: dataclasses; python_version < \"3.7\" in /usr/local/lib/python3.6/dist-packages (from transformers) (0.7)\n",
            "Requirement already satisfied: requests in /usr/local/lib/python3.6/dist-packages (from transformers) (2.23.0)\n",
            "Requirement already satisfied: numpy in /usr/local/lib/python3.6/dist-packages (from transformers) (1.18.5)\n",
            "Requirement already satisfied: six in /usr/local/lib/python3.6/dist-packages (from sacremoses->transformers) (1.12.0)\n",
            "Requirement already satisfied: click in /usr/local/lib/python3.6/dist-packages (from sacremoses->transformers) (7.1.2)\n",
            "Requirement already satisfied: joblib in /usr/local/lib/python3.6/dist-packages (from sacremoses->transformers) (0.16.0)\n",
            "Requirement already satisfied: pyparsing>=2.0.2 in /usr/local/lib/python3.6/dist-packages (from packaging->transformers) (2.4.7)\n",
            "Requirement already satisfied: idna<3,>=2.5 in /usr/local/lib/python3.6/dist-packages (from requests->transformers) (2.10)\n",
            "Requirement already satisfied: certifi>=2017.4.17 in /usr/local/lib/python3.6/dist-packages (from requests->transformers) (2020.6.20)\n",
            "Requirement already satisfied: urllib3!=1.25.0,!=1.25.1,<1.26,>=1.21.1 in /usr/local/lib/python3.6/dist-packages (from requests->transformers) (1.24.3)\n",
            "Requirement already satisfied: chardet<4,>=3.0.2 in /usr/local/lib/python3.6/dist-packages (from requests->transformers) (3.0.4)\n",
            "Building wheels for collected packages: sacremoses\n",
            "  Building wheel for sacremoses (setup.py) ... \u001b[?25l\u001b[?25hdone\n",
            "  Created wheel for sacremoses: filename=sacremoses-0.0.43-cp36-none-any.whl size=893260 sha256=8f8479609bb448c162b30bf5b748a4a10559a2f55ea3bde5bd696bf89da18cb1\n",
            "  Stored in directory: /root/.cache/pip/wheels/29/3c/fd/7ce5c3f0666dab31a50123635e6fb5e19ceb42ce38d4e58f45\n",
            "Successfully built sacremoses\n",
            "Installing collected packages: sacremoses, sentencepiece, tokenizers, transformers\n",
            "Successfully installed sacremoses-0.0.43 sentencepiece-0.1.91 tokenizers-0.8.1rc1 transformers-3.0.2\n",
            "Collecting pythainlp\n",
            "\u001b[?25l  Downloading https://files.pythonhosted.org/packages/1f/b1/3d8d1ff175fce699344bf23bc1cccd09d42d440f3ebf252cef5ab364d030/pythainlp-2.2.2-py3-none-any.whl (13.1MB)\n",
            "\u001b[K     |████████████████████████████████| 13.1MB 242kB/s \n",
            "\u001b[?25hCollecting tinydb>=3.0\n",
            "  Downloading https://files.pythonhosted.org/packages/b6/f6/b3e112addc8eb4a097f158124ce8b206767361a381f80c5f0c506d855e4a/tinydb-4.1.1-py3-none-any.whl\n",
            "Requirement already satisfied: requests>=2.22.0 in /usr/local/lib/python3.6/dist-packages (from pythainlp) (2.23.0)\n",
            "Collecting python-crfsuite>=0.9.6\n",
            "\u001b[?25l  Downloading https://files.pythonhosted.org/packages/95/99/869dde6dbf3e0d07a013c8eebfb0a3d30776334e0097f8432b631a9a3a19/python_crfsuite-0.9.7-cp36-cp36m-manylinux1_x86_64.whl (743kB)\n",
            "\u001b[K     |████████████████████████████████| 747kB 41.3MB/s \n",
            "\u001b[?25hRequirement already satisfied: chardet<4,>=3.0.2 in /usr/local/lib/python3.6/dist-packages (from requests>=2.22.0->pythainlp) (3.0.4)\n",
            "Requirement already satisfied: urllib3!=1.25.0,!=1.25.1,<1.26,>=1.21.1 in /usr/local/lib/python3.6/dist-packages (from requests>=2.22.0->pythainlp) (1.24.3)\n",
            "Requirement already satisfied: idna<3,>=2.5 in /usr/local/lib/python3.6/dist-packages (from requests>=2.22.0->pythainlp) (2.10)\n",
            "Requirement already satisfied: certifi>=2017.4.17 in /usr/local/lib/python3.6/dist-packages (from requests>=2.22.0->pythainlp) (2020.6.20)\n",
            "Installing collected packages: tinydb, python-crfsuite, pythainlp\n",
            "Successfully installed pythainlp-2.2.2 python-crfsuite-0.9.7 tinydb-4.1.1\n"
          ],
          "name": "stdout"
        }
      ]
    },
    {
      "cell_type": "code",
      "metadata": {
        "id": "0hEc5Uy2o8sH",
        "colab_type": "code",
        "colab": {}
      },
      "source": [
        "from transformers import TFBertModel, TFBertForTokenClassification, BertConfig\n",
        "import tensorflow as tf\n",
        "import transformers\n",
        "import re\n",
        "import json\n",
        "import tokenization as tok\n",
        "from tensorflow.keras.models import *\n",
        "from tensorflow.keras.layers import *\n",
        "from tqdm import tqdm_notebook\n",
        "from string import punctuation\n",
        "from pythainlp import thai_digits\n",
        "import numpy as np\n",
        "from tensorflow.keras.callbacks import ModelCheckpoint, EarlyStopping, Callback, TensorBoard\n",
        "from tensorflow.keras.utils import to_categorical\n",
        "\n",
        "config = BertConfig.from_pretrained('bert_base_th')\n",
        "tf.gfile = tf.io.gfile"
      ],
      "execution_count": 4,
      "outputs": []
    },
    {
      "cell_type": "code",
      "metadata": {
        "id": "r6HW84Depvmv",
        "colab_type": "code",
        "colab": {}
      },
      "source": [
        "from pythainlp import word_tokenize"
      ],
      "execution_count": 7,
      "outputs": []
    },
    {
      "cell_type": "code",
      "metadata": {
        "id": "ek4TuYW4pXiH",
        "colab_type": "code",
        "colab": {}
      },
      "source": [
        "MAX_SEQUENCE_LENGTH = 110\n",
        "EPOCHS = 30"
      ],
      "execution_count": 6,
      "outputs": []
    },
    {
      "cell_type": "code",
      "metadata": {
        "id": "vcwEcUeqpX95",
        "colab_type": "code",
        "colab": {
          "base_uri": "https://localhost:8080/",
          "height": 35
        },
        "outputId": "fc9b3ae0-742d-47c9-e097-1153176d5fb8"
      },
      "source": [
        "text = [word_tokenize(\"สวัสดีครับ\")]\n",
        "text"
      ],
      "execution_count": 52,
      "outputs": [
        {
          "output_type": "execute_result",
          "data": {
            "text/plain": [
              "[['สวัสดี', 'ครับ']]"
            ]
          },
          "metadata": {
            "tags": []
          },
          "execution_count": 52
        }
      ]
    },
    {
      "cell_type": "code",
      "metadata": {
        "id": "r3VM5En1p468",
        "colab_type": "code",
        "colab": {}
      },
      "source": [
        "class PaddingInputExample(object):\n",
        "    \"\"\"Fake example so the num input examples is a multiple of the batch size.\n",
        "  When running eval/predict on the TPU, we need to pad the number of examples\n",
        "  to be a multiple of the batch size, because the TPU requires a fixed batch\n",
        "  size. The alternative is to drop the last batch, which is bad because it means\n",
        "  the entire output data won't be generated.\n",
        "  We use this class instead of `None` because treating `None` as padding\n",
        "  battches could cause silent errors.\n",
        "  \"\"\"\n",
        "\n",
        "class InputExample(object):\n",
        "    \"\"\"A single training/test example for simple sequence classification.\"\"\"\n",
        "\n",
        "    def __init__(self, guid, text_a, text_b=None, label=None):\n",
        "        \"\"\"Constructs a InputExample.\n",
        "    Args:\n",
        "      guid: Unique id for the example.\n",
        "      text_a: string. The untokenized text of the first sequence. For single\n",
        "        sequence tasks, only this sequence must be specified.\n",
        "      text_b: (Optional) string. The untokenized text of the second sequence.\n",
        "        Only must be specified for sequence pair tasks.\n",
        "      label: (Optional) string. The label of the example. This should be\n",
        "        specified for train and dev examples, but not for test examples.\n",
        "    \"\"\"\n",
        "        self.guid = guid\n",
        "        self.text_a = text_a\n",
        "        self.text_b = text_b\n",
        "        self.label = label\n",
        "\n",
        "def create_tokenizer_from_hub_module():\n",
        "    \"\"\"Get the vocab file and casing info from the Hub module.\"\"\"\n",
        "    bert_module =  hub.Module(bert_path)\n",
        "    tokenization_info = bert_module(signature=\"tokenization_info\", as_dict=True)\n",
        "    vocab_file, do_lower_case = sess.run(\n",
        "        [\n",
        "            tokenization_info[\"vocab_file\"],\n",
        "            tokenization_info[\"do_lower_case\"],\n",
        "        ]\n",
        "    )\n",
        "\n",
        "    return FullTokenizer(vocab_file=vocab_file, do_lower_case=do_lower_case)\n",
        "\n",
        "def convert_single_example(tokenizer, example, max_seq_length=256):\n",
        "    \"\"\"Converts a single `InputExample` into a single `InputFeatures`.\"\"\"\n",
        "\n",
        "    if isinstance(example, PaddingInputExample):\n",
        "        input_ids = [0] * max_seq_length\n",
        "        input_mask = [0] * max_seq_length\n",
        "        segment_ids = [0] * max_seq_length\n",
        "        return input_ids, input_mask, segment_ids\n",
        "    \n",
        "    tokens_a = example.text_a\n",
        "    if len(tokens_a) > max_seq_length-2:\n",
        "        tokens_a = tokens_a[0 : (max_seq_length-2)]\n",
        "\n",
        "# Token map will be an int -> int mapping between the `orig_tokens` index and\n",
        "# the `bert_tokens` index.\n",
        "\n",
        "# bert_tokens == [\"[CLS]\", \"john\", \"johan\", \"##son\", \"'\", \"s\", \"house\", \"[SEP]\"]\n",
        "# orig_to_tok_map == [1, 2, 4, 6]   \n",
        "    orig_to_tok_map = []              \n",
        "    tokens = []\n",
        "    segment_ids = []\n",
        "    \n",
        "    tokens.append(\"[CLS]\")\n",
        "    segment_ids.append(0)\n",
        "    orig_to_tok_map.append(len(tokens)-1)\n",
        "    #print(len(tokens_a))\n",
        "    for token in tokens_a:\n",
        "        orig_to_tok_map.append(len(tokens))       \n",
        "        tokens.extend(tokenizer.tokenize(token))\n",
        "        #orig_to_tok_map.append(len(tokens)-1)\n",
        "        segment_ids.append(0)\n",
        "    tokens.append(\"[SEP]\")\n",
        "    segment_ids.append(0)\n",
        "    orig_to_tok_map.append(len(tokens)-1)\n",
        "    input_ids = tokenizer.convert_tokens_to_ids([tokens[i] for i in orig_to_tok_map])\n",
        "    #print(len(orig_to_tok_map), len(tokens), len(input_ids), len(segment_ids)) #for debugging\n",
        "\n",
        "    # The mask has 1 for real tokens and 0 for padding tokens. Only real\n",
        "    # tokens are attended to.\n",
        "    input_mask = [1] * len(input_ids)\n",
        "    #print(len(label_ids)) #for debugging\n",
        "    # Zero-pad up to the sequence length.\n",
        "    while len(input_ids) < max_seq_length:\n",
        "        input_ids.append(0)\n",
        "        input_mask.append(0)\n",
        "        segment_ids.append(0)\n",
        "\n",
        "    assert len(input_ids) == max_seq_length\n",
        "    assert len(input_mask) == max_seq_length\n",
        "    assert len(segment_ids) == max_seq_length\n",
        "    return input_ids, input_mask, segment_ids\n",
        "\n",
        "def convert_examples_to_features(tokenizer, examples, max_seq_length=256):\n",
        "    \"\"\"Convert a set of `InputExample`s to a list of `InputFeatures`.\"\"\"\n",
        "\n",
        "    input_ids, input_masks, segment_ids = [], [], []\n",
        "    for example in examples:\n",
        "        input_id, input_mask, segment_id = convert_single_example(\n",
        "            tokenizer, example, max_seq_length\n",
        "        )\n",
        "        input_ids.append(input_id)\n",
        "        input_masks.append(input_mask)\n",
        "        segment_ids.append(segment_id)\n",
        "    return (\n",
        "        np.array(input_ids),\n",
        "        np.array(input_masks),\n",
        "        np.array(segment_ids),\n",
        "        \n",
        "    )\n",
        "\n",
        "def convert_text_to_examples(texts):\n",
        "    \"\"\"Create InputExamples\"\"\"\n",
        "    InputExamples = []\n",
        "    for text in texts:\n",
        "        InputExamples.append(\n",
        "            InputExample(guid=None, text_a=text, text_b=None)\n",
        "        )\n",
        "    return InputExamples"
      ],
      "execution_count": 46,
      "outputs": []
    },
    {
      "cell_type": "code",
      "metadata": {
        "id": "YOLwGTGWqfWP",
        "colab_type": "code",
        "colab": {}
      },
      "source": [
        "MAX_SEQUENCE_LENGTH = 110"
      ],
      "execution_count": 20,
      "outputs": []
    },
    {
      "cell_type": "code",
      "metadata": {
        "id": "y48_hv2xqat3",
        "colab_type": "code",
        "colab": {}
      },
      "source": [
        "tokenizer = tok.ThaiTokenizer('th.wiki.bpe.op25000.vocab', 'th.wiki.bpe.op25000.model')"
      ],
      "execution_count": 21,
      "outputs": []
    },
    {
      "cell_type": "code",
      "metadata": {
        "id": "4sun_m22qGLo",
        "colab_type": "code",
        "colab": {}
      },
      "source": [
        "# Convert data to InputExample format\n",
        "examples = convert_text_to_examples(text)"
      ],
      "execution_count": 54,
      "outputs": []
    },
    {
      "cell_type": "code",
      "metadata": {
        "id": "bwzHpW3rqX2p",
        "colab_type": "code",
        "colab": {
          "base_uri": "https://localhost:8080/",
          "height": 102,
          "referenced_widgets": [
            "bc3157e12bea42569c63d53378ed68fe",
            "2370112e67f346cabb9ee9da70724202",
            "ad2b9e53a0c5447c8f0eb72b0b216399",
            "10bcfd63cbd54e2c9d5b88564c016c74",
            "daaac9b7436f4af9bc60f6245c25cc4c",
            "17f9bca12db147dcafb2b8caa23e1420",
            "93d2a6a85437414e93541978c4cf1215",
            "211fac1ecf7946acb570b086f7132a9a"
          ]
        },
        "outputId": "e55093b9-2345-4ed1-e876-d88a711caa79"
      },
      "source": [
        "(train_input_ids, train_input_masks, train_segment_ids\n",
        ") = convert_examples_to_features(tokenizer, examples, max_seq_length=MAX_SEQUENCE_LENGTH+2)"
      ],
      "execution_count": 55,
      "outputs": [
        {
          "output_type": "stream",
          "text": [
            "/usr/local/lib/python3.6/dist-packages/ipykernel_launcher.py:99: TqdmDeprecationWarning: This function will be removed in tqdm==5.0.0\n",
            "Please use `tqdm.notebook.tqdm` instead of `tqdm.tqdm_notebook`\n"
          ],
          "name": "stderr"
        },
        {
          "output_type": "display_data",
          "data": {
            "application/vnd.jupyter.widget-view+json": {
              "model_id": "bc3157e12bea42569c63d53378ed68fe",
              "version_minor": 0,
              "version_major": 2
            },
            "text/plain": [
              "HBox(children=(FloatProgress(value=0.0, description='Converting examples to features', max=1.0, style=Progress…"
            ]
          },
          "metadata": {
            "tags": []
          }
        },
        {
          "output_type": "stream",
          "text": [
            "\n"
          ],
          "name": "stdout"
        }
      ]
    },
    {
      "cell_type": "code",
      "metadata": {
        "id": "XkSZrkyurZdc",
        "colab_type": "code",
        "colab": {}
      },
      "source": [
        "punctuation += 'ฯ'\n",
        "punctuation += ' '\n",
        "all_thai_digits = [num for num in thai_digits]+ '1 2 3 4 5 6 7 8 9 0'.split(' ')\n",
        "thai_num = 'หนึ่ง สอง สาม สี่ ห้า หก เจ็ด แปด เก้า สิบ เอ็ด ยี่ ร้อย พัน หมื่น แสน ล้าน'.split(' ')\n",
        "english_check = re.compile(r'[a-zA-Z]')\n",
        "abbr_check = re.compile(r'[^\\.]*\\.[^\\.]\\.?')\n",
        "\n",
        "def is_thai_alpha(word):\n",
        "    return int(bool(re.match(r'^[ก-๏\\s]+$', word)))\n",
        "\n",
        "def is_roman_alpha(word):\n",
        "    return int(bool(re.match(r'^[a-zA-Z\\s]+$', word)))\n",
        "\n",
        "def is_alnum(word):\n",
        "    return int(bool(re.match(r'^[ก-๙a-zA-Z0-9\\s]+$', word)))\n",
        "\n",
        "def is_capitalized(word):\n",
        "    return int(bool(re.match(r'^[A-Z][a-z]+(\\s[A-Z][a-z]+)*$', word)))\n",
        "\n",
        "def is_punct(word):\n",
        "    return int(bool(re.match(r'^[{}\\s]+$'.format(punctuation), word)))      \n",
        "\n",
        "def is_num(word):\n",
        "    return int(bool(re.match(r'^[๐-๙0-9]+$', word)))\n",
        "\n",
        "def orthog(word):\n",
        "    return {\n",
        "        '1is_roman': is_roman_alpha(word),\n",
        "        '2is_thai': is_thai_alpha(word),\n",
        "        '3all_digit': is_num(word),\n",
        "        '4has_digit': int(any([char in word for char in all_thai_digits])),\n",
        "        '5all_punct': is_punct(word),\n",
        "        '6has_punct': int(any([char in word for char in punctuation])),\n",
        "    }\n",
        "\n",
        "def orthog_to_vector(feature_dict):\n",
        "    feature_vec = np.zeros(len(feature_dict))\n",
        "    for i, k in enumerate(sorted(feature_dict.keys())):\n",
        "        feature_vec[i] = feature_dict[k]\n",
        "    return feature_vec\n",
        "\n",
        "def all_orthog_vec(X):\n",
        "    vec = np.zeros((len(X), MAX_SEQUENCE_LENGTH+2, 6))\n",
        "    for i, seq in enumerate(X):\n",
        "        for j, word in enumerate(seq):\n",
        "            feature = orthog(word)\n",
        "            for k, feat in enumerate(sorted(feature.keys())):\n",
        "                vec[i][j+1][k] = feature[feat]\n",
        "    return vec"
      ],
      "execution_count": 30,
      "outputs": []
    },
    {
      "cell_type": "code",
      "metadata": {
        "id": "V4AMf_Qmrke4",
        "colab_type": "code",
        "colab": {}
      },
      "source": [
        "train_orthog = all_orthog_vec([text])"
      ],
      "execution_count": 28,
      "outputs": []
    },
    {
      "cell_type": "code",
      "metadata": {
        "id": "EGcwB-XMr333",
        "colab_type": "code",
        "colab": {
          "base_uri": "https://localhost:8080/",
          "height": 126
        },
        "outputId": "7d6c507e-26a4-4e4e-f957-fae2ce865662"
      },
      "source": [
        "#config = BertConfig.from_pretrained('bert_base_th')\n",
        "bert = TFBertModel.from_pretrained('bert_base_th')"
      ],
      "execution_count": 29,
      "outputs": [
        {
          "output_type": "stream",
          "text": [
            "Some weights of the model checkpoint at bert_base_th were not used when initializing TFBertModel: ['nsp___cls', 'mlm___cls']\n",
            "- This IS expected if you are initializing TFBertModel from the checkpoint of a model trained on another task or with another architecture (e.g. initializing a BertForSequenceClassification model from a BertForPretraining model).\n",
            "- This IS NOT expected if you are initializing TFBertModel from the checkpoint of a model that you expect to be exactly identical (initializing a BertForSequenceClassification model from a BertForSequenceClassification model).\n",
            "All the weights of TFBertModel were initialized from the model checkpoint at bert_base_th.\n",
            "If your task is similar to the task the model of the ckeckpoint was trained on, you can already use TFBertModel for predictions without further training.\n"
          ],
          "name": "stderr"
        }
      ]
    },
    {
      "cell_type": "code",
      "metadata": {
        "id": "GNS1Hf-er0jX",
        "colab_type": "code",
        "colab": {}
      },
      "source": [
        "def build_model(max_seq_length):\n",
        "    seed = 0 \n",
        "    in_id = tf.keras.layers.Input(shape=(max_seq_length,), name=\"input_ids\", dtype='int64')\n",
        "    in_mask = tf.keras.layers.Input(shape=(max_seq_length,), name=\"input_masks\", dtype='int64')\n",
        "    in_segment = tf.keras.layers.Input(shape=(max_seq_length,), name=\"segment_ids\", dtype='int64')\n",
        "    orthog_in = tf.keras.layers.Input(shape=(max_seq_length, 6))\n",
        "    bert_inputs = [in_id, in_mask, in_segment]\n",
        "    all_inputs = bert_inputs + [orthog_in]\n",
        "    bert_output = bert(bert_inputs)[0]\n",
        "    x = concatenate([bert_output, orthog_in], axis=-1)\n",
        "    x = tf.keras.layers.SpatialDropout1D(0.3)(x)\n",
        "    out = tf.keras.layers.Dense(n_tags, activation=tf.keras.activations.softmax)(x)\n",
        "    model = tf.keras.models.Model(inputs=all_inputs, outputs=out)\n",
        "    model.compile(optimizer=tf.keras.optimizers.Adam(lr=0.00004), loss=tf.keras.losses.categorical_crossentropy, metrics=['accuracy'])   \n",
        "    model.summary()\n",
        "    return model"
      ],
      "execution_count": 34,
      "outputs": []
    },
    {
      "cell_type": "code",
      "metadata": {
        "id": "DASwX9APsBik",
        "colab_type": "code",
        "colab": {}
      },
      "source": [
        "n_tags = 14"
      ],
      "execution_count": 24,
      "outputs": []
    },
    {
      "cell_type": "code",
      "metadata": {
        "id": "_NYMtUMbr9SL",
        "colab_type": "code",
        "colab": {
          "base_uri": "https://localhost:8080/",
          "height": 497
        },
        "outputId": "520360b2-b158-4da5-8ba9-5f7703f87470"
      },
      "source": [
        "model = build_model(MAX_SEQUENCE_LENGTH+2) \n",
        "model.load_weights('AACL_BERT_TH.hdf5')"
      ],
      "execution_count": 33,
      "outputs": [
        {
          "output_type": "stream",
          "text": [
            "Model: \"model\"\n",
            "____________________________________________________________________________________________________\n",
            "Layer (type)                     Output Shape          Param #     Connected to                     \n",
            "====================================================================================================\n",
            "input_ids (InputLayer)           [(None, 112)]         0                                            \n",
            "____________________________________________________________________________________________________\n",
            "input_masks (InputLayer)         [(None, 112)]         0                                            \n",
            "____________________________________________________________________________________________________\n",
            "segment_ids (InputLayer)         [(None, 112)]         0                                            \n",
            "____________________________________________________________________________________________________\n",
            "tf_bert_model (TFBertModel)      ((None, 112, 768), (N 105244416   input_ids[0][0]                  \n",
            "                                                                   input_masks[0][0]                \n",
            "                                                                   segment_ids[0][0]                \n",
            "____________________________________________________________________________________________________\n",
            "input_2 (InputLayer)             [(None, 112, 6)]      0                                            \n",
            "____________________________________________________________________________________________________\n",
            "concatenate (Concatenate)        (None, 112, 774)      0           tf_bert_model[0][0]              \n",
            "                                                                   input_2[0][0]                    \n",
            "____________________________________________________________________________________________________\n",
            "spatial_dropout1d (SpatialDropou (None, 112, 774)      0           concatenate[0][0]                \n",
            "____________________________________________________________________________________________________\n",
            "dense (Dense)                    (None, 112, 14)       10850       spatial_dropout1d[0][0]          \n",
            "====================================================================================================\n",
            "Total params: 105,255,266\n",
            "Trainable params: 105,255,266\n",
            "Non-trainable params: 0\n",
            "____________________________________________________________________________________________________\n"
          ],
          "name": "stdout"
        }
      ]
    },
    {
      "cell_type": "code",
      "metadata": {
        "id": "9IMXEnNBCP_o",
        "colab_type": "code",
        "colab": {}
      },
      "source": [
        "int2tag = {0: '-PAD-',\n",
        " 1: 'ADP',\n",
        " 2: 'ADV',\n",
        " 3: 'AUX',\n",
        " 4: 'CCONJ',\n",
        " 5: 'DET',\n",
        " 6: 'NOUN',\n",
        " 7: 'NUM',\n",
        " 8: 'PART',\n",
        " 9: 'PRON',\n",
        " 10: 'PROPN',\n",
        " 11: 'PUNCT',\n",
        " 12: 'SCONJ',\n",
        " 13: 'VERB'}"
      ],
      "execution_count": 35,
      "outputs": []
    },
    {
      "cell_type": "code",
      "metadata": {
        "id": "AHl_yGq8Bqis",
        "colab_type": "code",
        "colab": {}
      },
      "source": [
        "def tag(text):\n",
        "    \"\"\"\n",
        "    text = list of tokenized_words\n",
        "    \"\"\"\n",
        "    examples = convert_text_to_examples([text]\n",
        "                                        )\n",
        "    input_ids, input_masks, segment_ids = convert_examples_to_features(tokenizer, examples, max_seq_length=MAX_SEQUENCE_LENGTH+2)\n",
        "    orthog = all_orthog_vec([text])\n",
        "    predictions = model.predict([input_ids, input_masks, segment_ids, orthog]).argmax(axis=-1)\n",
        "    predictions =  [[int2tag[i] for i in seq if i!=0] for seq in predictions]\n",
        "    return tuple(zip(text, predictions[0]))"
      ],
      "execution_count": 49,
      "outputs": []
    },
    {
      "cell_type": "code",
      "metadata": {
        "id": "OGJ-idrgDHrm",
        "colab_type": "code",
        "colab": {
          "base_uri": "https://localhost:8080/",
          "height": 35
        },
        "outputId": "9ef538f2-0ff9-456b-ca72-26c246a893cc"
      },
      "source": [
        "text = word_tokenize('การตรวจสอบความเป็นส่วนตัว')\n",
        "print(text)"
      ],
      "execution_count": 44,
      "outputs": [
        {
          "output_type": "stream",
          "text": [
            "['การ', 'ตรวจสอบ', 'ความเป็นส่วนตัว']\n"
          ],
          "name": "stdout"
        }
      ]
    },
    {
      "cell_type": "code",
      "metadata": {
        "id": "Es6u7xcmCyOr",
        "colab_type": "code",
        "colab": {
          "base_uri": "https://localhost:8080/",
          "height": 35
        },
        "outputId": "62bdb316-9952-4c75-cbca-ff48ee723efe"
      },
      "source": [
        "tag(text)"
      ],
      "execution_count": 50,
      "outputs": [
        {
          "output_type": "execute_result",
          "data": {
            "text/plain": [
              "(('การ', 'NOUN'), ('ตรวจสอบ', 'VERB'), ('ความเป็นส่วนตัว', 'NOUN'))"
            ]
          },
          "metadata": {
            "tags": []
          },
          "execution_count": 50
        }
      ]
    },
    {
      "cell_type": "code",
      "metadata": {
        "id": "zGahq-hjDamo",
        "colab_type": "code",
        "colab": {}
      },
      "source": [
        ""
      ],
      "execution_count": null,
      "outputs": []
    }
  ]
}