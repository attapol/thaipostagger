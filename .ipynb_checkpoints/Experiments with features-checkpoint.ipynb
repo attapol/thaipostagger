{
 "cells": [
  {
   "cell_type": "code",
   "execution_count": 9,
   "metadata": {},
   "outputs": [],
   "source": [
    "import json\n",
    "data_files = ['train_orchid.pos.json', 'dev_orchid.pos.json', 'test_orchid.pos.json']\n",
    "train_data, dev_data, test_data = tuple(map(lambda x: json.load(open(x)), data_files))"
   ]
  },
  {
   "cell_type": "code",
   "execution_count": 10,
   "metadata": {},
   "outputs": [
    {
     "data": {
      "text/html": [
       "<div>\n",
       "<style scoped>\n",
       "    .dataframe tbody tr th:only-of-type {\n",
       "        vertical-align: middle;\n",
       "    }\n",
       "\n",
       "    .dataframe tbody tr th {\n",
       "        vertical-align: top;\n",
       "    }\n",
       "\n",
       "    .dataframe thead th {\n",
       "        text-align: right;\n",
       "    }\n",
       "</style>\n",
       "<table border=\"1\" class=\"dataframe\">\n",
       "  <thead>\n",
       "    <tr style=\"text-align: right;\">\n",
       "      <th></th>\n",
       "      <th>sentences</th>\n",
       "      <th>words</th>\n",
       "    </tr>\n",
       "  </thead>\n",
       "  <tbody>\n",
       "    <tr>\n",
       "      <th>train</th>\n",
       "      <td>18500</td>\n",
       "      <td>272620</td>\n",
       "    </tr>\n",
       "    <tr>\n",
       "      <th>dev</th>\n",
       "      <td>2312</td>\n",
       "      <td>33371</td>\n",
       "    </tr>\n",
       "    <tr>\n",
       "      <th>test</th>\n",
       "      <td>2313</td>\n",
       "      <td>36651</td>\n",
       "    </tr>\n",
       "  </tbody>\n",
       "</table>\n",
       "</div>"
      ],
      "text/plain": [
       "       sentences   words\n",
       "train      18500  272620\n",
       "dev         2312   33371\n",
       "test        2313   36651"
      ]
     },
     "execution_count": 10,
     "metadata": {},
     "output_type": "execute_result"
    }
   ],
   "source": [
    "import pandas as pd\n",
    "pd.DataFrame({'sentences': [len(train_data), len(dev_data), len(test_data) ],\n",
    "              'words': [sum(map(len, train_data)), sum(map(len, dev_data)),sum(map(len, test_data)) ]\n",
    "             }, \n",
    "             index=['train', 'dev', 'test'])"
   ]
  },
  {
   "cell_type": "markdown",
   "metadata": {},
   "source": [
    "# Experiment 1: Most likely tag baseline"
   ]
  },
  {
   "cell_type": "code",
   "execution_count": 45,
   "metadata": {},
   "outputs": [],
   "source": [
    "def flatten(l):\n",
    "    return [x for sublist in l for x in sublist]\n",
    "\n",
    "from sklearn.feature_extraction import DictVectorizer\n",
    "\n",
    "class Exp1Featurizer():\n",
    "    \n",
    "    def __init__(self):\n",
    "        self.dv = DictVectorizer(sparse=True)\n",
    "        \n",
    "    def featurize(self, data_list, train=False):\n",
    "        features = [{x:1} for x in data_list]\n",
    "        if train:\n",
    "            return self.dv.fit_transform(features)\n",
    "        else:\n",
    "            return self.dv.transform(features)\n",
    "        "
   ]
  },
  {
   "cell_type": "code",
   "execution_count": 46,
   "metadata": {},
   "outputs": [],
   "source": [
    "train_X, train_y = zip(*flatten(train_data))\n",
    "exp1_featurizer = Exp1Featurizer()\n",
    "train_X = exp1_featurizer.featurize(train_X, train=True)"
   ]
  },
  {
   "cell_type": "code",
   "execution_count": 47,
   "metadata": {},
   "outputs": [],
   "source": [
    "from sklearn.linear_model import LogisticRegression\n",
    "lr_model = LogisticRegression()"
   ]
  },
  {
   "cell_type": "code",
   "execution_count": 48,
   "metadata": {},
   "outputs": [
    {
     "name": "stderr",
     "output_type": "stream",
     "text": [
      "/Users/te/anaconda3/lib/python3.7/site-packages/sklearn/linear_model/logistic.py:432: FutureWarning: Default solver will be changed to 'lbfgs' in 0.22. Specify a solver to silence this warning.\n",
      "  FutureWarning)\n",
      "/Users/te/anaconda3/lib/python3.7/site-packages/sklearn/linear_model/logistic.py:469: FutureWarning: Default multi_class will be changed to 'auto' in 0.22. Specify the multi_class option to silence this warning.\n",
      "  \"this warning.\", FutureWarning)\n"
     ]
    },
    {
     "data": {
      "text/plain": [
       "LogisticRegression(C=1.0, class_weight=None, dual=False, fit_intercept=True,\n",
       "                   intercept_scaling=1, l1_ratio=None, max_iter=100,\n",
       "                   multi_class='warn', n_jobs=None, penalty='l2',\n",
       "                   random_state=None, solver='warn', tol=0.0001, verbose=0,\n",
       "                   warm_start=False)"
      ]
     },
     "execution_count": 48,
     "metadata": {},
     "output_type": "execute_result"
    }
   ],
   "source": [
    "lr_model.fit(train_X, train_y)"
   ]
  },
  {
   "cell_type": "code",
   "execution_count": 50,
   "metadata": {},
   "outputs": [],
   "source": [
    "dev_X, dev_y = zip(*flatten(dev_data))\n",
    "dev_X = exp1_featurizer.featurize(dev_X, train=False)\n",
    "predictions = lr_model.predict(dev_X)"
   ]
  },
  {
   "cell_type": "code",
   "execution_count": 54,
   "metadata": {},
   "outputs": [],
   "source": [
    "from sklearn.metrics import classification_report, confusion_matrix"
   ]
  },
  {
   "cell_type": "code",
   "execution_count": 53,
   "metadata": {},
   "outputs": [
    {
     "name": "stdout",
     "output_type": "stream",
     "text": [
      "              precision    recall  f1-score   support\n",
      "\n",
      "         ADP       0.93      0.89      0.91      2457\n",
      "         ADV       0.84      0.58      0.69       730\n",
      "         AUX       0.92      0.96      0.94      1863\n",
      "       CCONJ       0.90      0.98      0.94        46\n",
      "         DET       0.95      0.94      0.95       963\n",
      "        NOUN       0.88      0.98      0.93     10714\n",
      "         NUM       0.81      0.42      0.55       658\n",
      "        PART       1.00      0.62      0.76        13\n",
      "        PRON       0.92      0.87      0.90       858\n",
      "       PROPN       0.61      0.37      0.46       443\n",
      "       PUNCT       1.00      0.99      0.99      6247\n",
      "       SCONJ       0.89      0.90      0.89      2046\n",
      "        VERB       0.95      0.90      0.92      6333\n",
      "\n",
      "    accuracy                           0.92     33371\n",
      "   macro avg       0.89      0.80      0.83     33371\n",
      "weighted avg       0.92      0.92      0.92     33371\n",
      "\n"
     ]
    }
   ],
   "source": [
    "print(classification_report(dev_y, predictions))"
   ]
  },
  {
   "cell_type": "markdown",
   "metadata": {},
   "source": [
    "TODO -- Evaluate only unknown words (words not in the training set)"
   ]
  },
  {
   "cell_type": "markdown",
   "metadata": {},
   "source": [
    "# Experiment 2 : Evaluate PythaiNLP POS tagger"
   ]
  },
  {
   "cell_type": "code",
   "execution_count": 57,
   "metadata": {},
   "outputs": [],
   "source": [
    "import pythainlp.tag"
   ]
  },
  {
   "cell_type": "code",
   "execution_count": null,
   "metadata": {},
   "outputs": [],
   "source": []
  },
  {
   "cell_type": "markdown",
   "metadata": {},
   "source": [
    "# Experiment 3 : CRF with only current word features"
   ]
  },
  {
   "cell_type": "code",
   "execution_count": null,
   "metadata": {},
   "outputs": [],
   "source": []
  },
  {
   "cell_type": "markdown",
   "metadata": {},
   "source": [
    "# Experiment 4 : Adding more features for CRF? or use Bi-LSTM of sort"
   ]
  },
  {
   "cell_type": "code",
   "execution_count": null,
   "metadata": {},
   "outputs": [],
   "source": []
  }
 ],
 "metadata": {
  "kernelspec": {
   "display_name": "Python 3",
   "language": "python",
   "name": "python3"
  },
  "language_info": {
   "codemirror_mode": {
    "name": "ipython",
    "version": 3
   },
   "file_extension": ".py",
   "mimetype": "text/x-python",
   "name": "python",
   "nbconvert_exporter": "python",
   "pygments_lexer": "ipython3",
   "version": "3.7.3"
  }
 },
 "nbformat": 4,
 "nbformat_minor": 2
}
