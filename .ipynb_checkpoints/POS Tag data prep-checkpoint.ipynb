{
 "cells": [
  {
   "cell_type": "code",
   "execution_count": 25,
   "metadata": {},
   "outputs": [],
   "source": [
    "import random\n",
    "from collections import Counter"
   ]
  },
  {
   "cell_type": "code",
   "execution_count": 26,
   "metadata": {},
   "outputs": [],
   "source": [
    "!egrep '/[A-Z][A-Z]+$|^//$' orchid97.crp.utf > orchid97.pos"
   ]
  },
  {
   "cell_type": "code",
   "execution_count": 27,
   "metadata": {},
   "outputs": [],
   "source": [
    "with open('orchid97.pos') as f:\n",
    "    sentences = []\n",
    "    sentence = []\n",
    "    for line in f:\n",
    "        line = line.strip()\n",
    "        if line == '//':\n",
    "            sentences.append(sentence)\n",
    "            sentence = []\n",
    "        else:\n",
    "            sentence.append(line.split('/'))            "
   ]
  },
  {
   "cell_type": "code",
   "execution_count": 28,
   "metadata": {},
   "outputs": [],
   "source": [
    "num_sentences = len(sentences)"
   ]
  },
  {
   "cell_type": "code",
   "execution_count": 29,
   "metadata": {},
   "outputs": [
    {
     "data": {
      "text/plain": [
       "342642"
      ]
     },
     "execution_count": 29,
     "metadata": {},
     "output_type": "execute_result"
    }
   ],
   "source": [
    "sum(map(len, sentences))"
   ]
  },
  {
   "cell_type": "code",
   "execution_count": 30,
   "metadata": {},
   "outputs": [
    {
     "name": "stdout",
     "output_type": "stream",
     "text": [
      "NCMN\t82691\n",
      "PUNC\t68560\n",
      "VACT\t37002\n",
      "RPRE\t26545\n",
      "VSTA\t18824\n",
      "FIXN\t14834\n",
      "JSBR\t12716\n",
      "JCRG\t8979\n",
      "XVAE\t7465\n",
      "PREL\t7164\n",
      "VATT\t6490\n",
      "XVBM\t5928\n",
      "NPRP\t5101\n",
      "ADVN\t4973\n",
      "DCNM\t4230\n",
      "XVAM\t3895\n",
      "NLBL\t3581\n",
      "DDAC\t2943\n",
      "DONM\t2314\n",
      "CNIT\t2173\n",
      "NCNM\t2142\n",
      "CMTR\t1601\n",
      "DIBQ\t1573\n",
      "DIAC\t1554\n",
      "XVMM\t1523\n",
      "NEG\t1352\n",
      "CLTV\t800\n",
      "FIXV\t794\n",
      "DDAN\t776\n",
      "DDBQ\t690\n",
      "PDMN\t686\n",
      "PPRS\t581\n",
      "NTTL\t518\n",
      "JCMP\t460\n",
      "ADVS\t272\n",
      "CFQC\t271\n",
      "ADVP\t206\n",
      "PNTR\t123\n",
      "ADVI\t114\n",
      "EITT\t99\n",
      "DDAQ\t49\n",
      "EAFF\t18\n",
      "DIAQ\t16\n",
      "NONM\t9\n",
      "CVBL\t5\n",
      "XVBB\t2\n"
     ]
    }
   ],
   "source": [
    "c = Counter([word[1] for sentence in sentences for word in sentence])\n",
    "for pos, count in c.most_common():\n",
    "    print ('{}\\t{}'.format(pos,count))"
   ]
  },
  {
   "cell_type": "code",
   "execution_count": 31,
   "metadata": {},
   "outputs": [],
   "source": [
    "import pandas as pd\n",
    "mapping = pd.read_csv('tag_mapping.csv')\n",
    "orch_to_ud = {x:y for x, y in zip(mapping.Tag.to_list(), mapping.UDTag.to_list() )}"
   ]
  },
  {
   "cell_type": "code",
   "execution_count": 32,
   "metadata": {},
   "outputs": [
    {
     "data": {
      "text/plain": [
       "{'ADVI': 'ADV',\n",
       " 'ADVN': 'ADV',\n",
       " 'ADVP': 'ADV',\n",
       " 'ADVS': 'ADV',\n",
       " 'CFQC': 'NOUN',\n",
       " 'CLTV': 'NOUN',\n",
       " 'CMTR': 'NOUN',\n",
       " 'CNIT': 'NOUN',\n",
       " 'CVBL': 'NOUN',\n",
       " 'DCNM': 'NUM',\n",
       " 'DDAC': 'DET',\n",
       " 'DDAN': 'DET',\n",
       " 'DDAQ': 'DET',\n",
       " 'DDBQ': 'DET',\n",
       " 'DIAC': 'DET',\n",
       " 'DIAQ': 'DET',\n",
       " 'DIBQ': 'DET',\n",
       " 'DONM': 'DET',\n",
       " 'EAFF': 'PART',\n",
       " 'EITT': 'PART',\n",
       " 'FIXN': 'NOUN',\n",
       " 'FIXV': 'NOUN',\n",
       " 'JCMP': 'CCONJ',\n",
       " 'JCRG': 'SCONJ',\n",
       " 'JSBR': 'SCONJ',\n",
       " 'NCMN': 'NOUN',\n",
       " 'NCNM': 'NUM',\n",
       " 'NEG': 'ADV',\n",
       " 'NLBL': 'NOUN',\n",
       " 'NONM': 'NOUN',\n",
       " 'NPRP': 'PROPN',\n",
       " 'NTTL': 'NOUN',\n",
       " 'PDMN': 'PRON',\n",
       " 'PNTR': 'PRON',\n",
       " 'PPRS': 'PRON',\n",
       " 'PREL': 'PRON',\n",
       " 'PUNC': 'PUNCT',\n",
       " 'RPRE': 'ADP',\n",
       " 'VACT': 'VERB',\n",
       " 'VATT': 'VERB',\n",
       " 'VSTA': 'VERB',\n",
       " 'XVAE': 'AUX',\n",
       " 'XVAM': 'AUX',\n",
       " 'XVBB': 'AUX',\n",
       " 'XVBM': 'AUX',\n",
       " 'XVMM': 'AUX'}"
      ]
     },
     "execution_count": 32,
     "metadata": {},
     "output_type": "execute_result"
    }
   ],
   "source": [
    "orch_to_ud"
   ]
  },
  {
   "cell_type": "code",
   "execution_count": 37,
   "metadata": {},
   "outputs": [],
   "source": [
    "new_sentences = [[(x[0], orch_to_ud[x[1]]) for x in sentence] for sentence in sentences ]\n",
    "c = Counter([word[1] for sentence in new_sentences for word in sentence])"
   ]
  },
  {
   "cell_type": "code",
   "execution_count": 39,
   "metadata": {},
   "outputs": [
    {
     "data": {
      "text/plain": [
       "[('NOUN', 107277),\n",
       " ('PUNCT', 68560),\n",
       " ('VERB', 62316),\n",
       " ('ADP', 26545),\n",
       " ('SCONJ', 21695),\n",
       " ('AUX', 18813),\n",
       " ('DET', 9915),\n",
       " ('PRON', 8554),\n",
       " ('ADV', 6917),\n",
       " ('NUM', 6372),\n",
       " ('PROPN', 5101),\n",
       " ('CCONJ', 460),\n",
       " ('PART', 117)]"
      ]
     },
     "execution_count": 39,
     "metadata": {},
     "output_type": "execute_result"
    }
   ],
   "source": [
    "c.most_common()"
   ]
  },
  {
   "cell_type": "code",
   "execution_count": 40,
   "metadata": {},
   "outputs": [],
   "source": [
    "train, dev, test = 0.8, 0.1, 0.1"
   ]
  },
  {
   "cell_type": "code",
   "execution_count": 41,
   "metadata": {},
   "outputs": [],
   "source": [
    "train_set = new_sentences[0:int(train * num_sentences)]\n",
    "dev_set = new_sentences[int(train * num_sentences):int((train + dev) * num_sentences)]\n",
    "test_set = new_sentences[int((train + dev) * num_sentences):]"
   ]
  },
  {
   "cell_type": "code",
   "execution_count": 42,
   "metadata": {},
   "outputs": [],
   "source": [
    "import json"
   ]
  },
  {
   "cell_type": "code",
   "execution_count": 43,
   "metadata": {},
   "outputs": [],
   "source": [
    "with open('train_orchid.pos.json', mode='w') as f:\n",
    "    json.dump(train_set, f)"
   ]
  },
  {
   "cell_type": "code",
   "execution_count": 44,
   "metadata": {},
   "outputs": [],
   "source": [
    "with open('dev_orchid.pos.json', mode='w') as f:\n",
    "    json.dump(dev_set, f)"
   ]
  },
  {
   "cell_type": "code",
   "execution_count": 45,
   "metadata": {},
   "outputs": [],
   "source": [
    "with open('test_orchid.pos.json', mode='w') as f:\n",
    "    json.dump(test_set, f)"
   ]
  },
  {
   "cell_type": "code",
   "execution_count": null,
   "metadata": {},
   "outputs": [],
   "source": []
  }
 ],
 "metadata": {
  "kernelspec": {
   "display_name": "Python 3",
   "language": "python",
   "name": "python3"
  },
  "language_info": {
   "codemirror_mode": {
    "name": "ipython",
    "version": 3
   },
   "file_extension": ".py",
   "mimetype": "text/x-python",
   "name": "python",
   "nbconvert_exporter": "python",
   "pygments_lexer": "ipython3",
   "version": "3.7.3"
  }
 },
 "nbformat": 4,
 "nbformat_minor": 2
}
