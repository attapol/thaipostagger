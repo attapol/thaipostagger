{
 "cells": [
  {
   "cell_type": "code",
   "execution_count": 2,
   "metadata": {
    "ExecuteTime": {
     "end_time": "2019-12-25T05:42:11.749800Z",
     "start_time": "2019-12-25T05:42:11.012137Z"
    }
   },
   "outputs": [],
   "source": [
    "import json\n",
    "data_files = ['train_orchid.pos.json', 'dev_orchid.pos.json', 'test_orchid.pos.json']\n",
    "train_data, dev_data, test_data = tuple(map(lambda x: json.load(open(x)), data_files))"
   ]
  },
  {
   "cell_type": "code",
   "execution_count": 3,
   "metadata": {
    "ExecuteTime": {
     "end_time": "2019-12-25T05:42:13.285655Z",
     "start_time": "2019-12-25T05:42:13.264411Z"
    }
   },
   "outputs": [
    {
     "data": {
      "text/plain": [
       "[[['การ', 'NOUN'],\n",
       "  ['ประชุม', 'VERB'],\n",
       "  ['ทาง', 'NOUN'],\n",
       "  ['วิชาการ', 'NOUN'],\n",
       "  ['<space>', 'PUNCT'],\n",
       "  ['ครั้ง', 'NOUN'],\n",
       "  ['ที่ 1', 'DET']],\n",
       " [['โครงการวิจัยและพัฒนา', 'NOUN'],\n",
       "  ['อิเล็กทรอนิกส์', 'NOUN'],\n",
       "  ['และ', 'SCONJ'],\n",
       "  ['คอมพิวเตอร์', 'NOUN']],\n",
       " [['ปีงบประมาณ', 'NOUN'], ['<space>', 'PUNCT'], ['2531', 'NUM']],\n",
       " [['เล่ม', 'NOUN'], ['<space>', 'PUNCT'], ['1', 'DET']],\n",
       " [['ศูนย์เทคโนโลยีอิเล็กทรอนิกส์และคอมพิวเตอร์แห่งชาติ', 'PROPN']]]"
      ]
     },
     "execution_count": 3,
     "metadata": {},
     "output_type": "execute_result"
    }
   ],
   "source": [
    "train_data[:5]"
   ]
  },
  {
   "cell_type": "code",
   "execution_count": 12,
   "metadata": {
    "ExecuteTime": {
     "end_time": "2019-12-25T05:44:45.316162Z",
     "start_time": "2019-12-25T05:44:45.270317Z"
    }
   },
   "outputs": [
    {
     "data": {
      "text/plain": [
       "15017"
      ]
     },
     "execution_count": 12,
     "metadata": {},
     "output_type": "execute_result"
    }
   ],
   "source": [
    "words = set([word [0] for seq in train_data for word in seq])\n",
    "len(words)"
   ]
  },
  {
   "cell_type": "code",
   "execution_count": 21,
   "metadata": {
    "ExecuteTime": {
     "end_time": "2019-12-25T05:47:26.836276Z",
     "start_time": "2019-12-25T05:47:26.831912Z"
    }
   },
   "outputs": [],
   "source": [
    "def remove_known_words(vocab, test_data):\n",
    "    #return [(word,freq) for seq in test_data for word, freq in seq if word not in vocab]\n",
    "    return [sen for sen in [[(word,freq) for word,freq in seq if word not in vocab] for seq in test_data] if sen]"
   ]
  },
  {
   "cell_type": "code",
   "execution_count": 28,
   "metadata": {
    "ExecuteTime": {
     "end_time": "2019-12-25T05:48:34.697836Z",
     "start_time": "2019-12-25T05:48:34.682598Z"
    }
   },
   "outputs": [],
   "source": [
    "dev_noknown = remove_known_words(words, dev_data)\n",
    "test_noknown = remove_known_words(words, test_data)"
   ]
  },
  {
   "cell_type": "code",
   "execution_count": 31,
   "metadata": {
    "ExecuteTime": {
     "end_time": "2019-12-25T05:51:16.899916Z",
     "start_time": "2019-12-25T05:51:16.858143Z"
    }
   },
   "outputs": [],
   "source": [
    "import json\n",
    "\n",
    "def serialize(obj, filename):\n",
    "    with open(filename, mode='w', encoding='utf8') as f:\n",
    "        json.dump(obj, f)\n",
    "serialize(dev_noknown, 'dev_orchid_noknown.json')\n",
    "serialize(test_noknown, 'test_orchid_noknown.json')"
   ]
  },
  {
   "cell_type": "code",
   "execution_count": 33,
   "metadata": {
    "ExecuteTime": {
     "end_time": "2019-12-25T06:02:04.582393Z",
     "start_time": "2019-12-25T06:02:04.577874Z"
    }
   },
   "outputs": [
    {
     "data": {
      "text/plain": [
       "1271"
      ]
     },
     "execution_count": 33,
     "metadata": {},
     "output_type": "execute_result"
    }
   ],
   "source": [
    "len(dev_noknown)"
   ]
  },
  {
   "cell_type": "code",
   "execution_count": 32,
   "metadata": {
    "ExecuteTime": {
     "end_time": "2019-12-25T06:02:02.696267Z",
     "start_time": "2019-12-25T06:02:02.691352Z"
    }
   },
   "outputs": [
    {
     "data": {
      "text/plain": [
       "1426"
      ]
     },
     "execution_count": 32,
     "metadata": {},
     "output_type": "execute_result"
    }
   ],
   "source": [
    "len(test_noknown)"
   ]
  },
  {
   "cell_type": "code",
   "execution_count": null,
   "metadata": {},
   "outputs": [],
   "source": []
  }
 ],
 "metadata": {
  "kernelspec": {
   "display_name": "Python 3",
   "language": "python",
   "name": "python3"
  },
  "toc": {
   "base_numbering": 1,
   "nav_menu": {},
   "number_sections": true,
   "sideBar": true,
   "skip_h1_title": false,
   "title_cell": "Table of Contents",
   "title_sidebar": "Contents",
   "toc_cell": false,
   "toc_position": {},
   "toc_section_display": true,
   "toc_window_display": false
  },
  "varInspector": {
   "cols": {
    "lenName": 16,
    "lenType": 16,
    "lenVar": 40
   },
   "kernels_config": {
    "python": {
     "delete_cmd_postfix": "",
     "delete_cmd_prefix": "del ",
     "library": "var_list.py",
     "varRefreshCmd": "print(var_dic_list())"
    },
    "r": {
     "delete_cmd_postfix": ") ",
     "delete_cmd_prefix": "rm(",
     "library": "var_list.r",
     "varRefreshCmd": "cat(var_dic_list()) "
    }
   },
   "types_to_exclude": [
    "module",
    "function",
    "builtin_function_or_method",
    "instance",
    "_Feature"
   ],
   "window_display": false
  }
 },
 "nbformat": 4,
 "nbformat_minor": 2
}
